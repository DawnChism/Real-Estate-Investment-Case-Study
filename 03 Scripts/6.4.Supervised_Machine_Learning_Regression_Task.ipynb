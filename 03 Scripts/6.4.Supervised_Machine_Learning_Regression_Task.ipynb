{
 "cells": [
  {
   "cell_type": "code",
   "execution_count": null,
   "id": "548d9127-b66e-4d42-b8bf-171e3b5441ed",
   "metadata": {},
   "outputs": [],
   "source": []
  },
  {
   "cell_type": "markdown",
   "id": "e2adcc0a-a0a7-457b-84c8-537fdb66c832",
   "metadata": {},
   "source": [
    "## 6.4: Supervised Machine Learning: Regression"
   ]
  },
  {
   "cell_type": "markdown",
   "id": "dcfc3262-7c85-49ba-9584-6f08675faede",
   "metadata": {},
   "source": [
    "### This script contains the following:\n",
    "\n",
    "#### 1. Importing libraries and data\n",
    "#### 2. Data cleaning\n",
    "#### 3. Data prep for regression analysis\n",
    "#### 4. Regression analysis"
   ]
  },
  {
   "cell_type": "markdown",
   "id": "0d5e08b0-b780-4327-ae7e-081a87615a38",
   "metadata": {},
   "source": [
    "### 1. Importing libraries and data"
   ]
  },
  {
   "cell_type": "code",
   "execution_count": 1,
   "id": "8279c580-b41a-44c2-bf88-3e1ec2132e03",
   "metadata": {},
   "outputs": [],
   "source": [
    "import pandas as pd\n",
    "import numpy as np\n",
    "import seaborn as sns\n",
    "import matplotlib\n",
    "import matplotlib.pyplot as plt\n",
    "import os\n",
    "import sklearn\n",
    "from sklearn.model_selection import train_test_split \n",
    "from sklearn.linear_model import LinearRegression\n",
    "from sklearn.metrics import mean_squared_error, r2_score"
   ]
  },
  {
   "cell_type": "code",
   "execution_count": 2,
   "id": "913d0d47-3f62-4680-9f24-99b287fa9e60",
   "metadata": {},
   "outputs": [],
   "source": [
    "# This option ensures that the graphs I create are displayed within the notebook without the need to \"call\" them specifically.\n",
    "\n",
    "%matplotlib inline"
   ]
  },
  {
   "cell_type": "code",
   "execution_count": 3,
   "id": "4054a29a-ba5a-4b88-a6df-f15b0c636ec5",
   "metadata": {},
   "outputs": [],
   "source": [
    "# Path\n",
    "path = r'C:\\Users\\Family Computer\\Documents\\Data Analytics\\Real Estate Price Prediction'"
   ]
  },
  {
   "cell_type": "code",
   "execution_count": 4,
   "id": "26ee2bfc-c26a-4b70-9cb7-55563ecca81f",
   "metadata": {},
   "outputs": [],
   "source": [
    "#Import RDC_inventory_by_month_updated.pkl (from 6.2)\n",
    "df_inventory_by_month_updated=pd.read_pickle(os.path.join(path, '02 Data', 'Prepared Data', 'RDC_inventory_by_month_updated.pkl'))"
   ]
  },
  {
   "cell_type": "markdown",
   "id": "cf7f4cf9-98fb-4e87-8f8c-a0abaddb9fde",
   "metadata": {},
   "source": [
    "### 2. Data cleaning"
   ]
  },
  {
   "cell_type": "code",
   "execution_count": 5,
   "id": "e121c202-d6f7-432d-87df-9eba6b5a5976",
   "metadata": {},
   "outputs": [
    {
     "data": {
      "text/html": [
       "<div>\n",
       "<style scoped>\n",
       "    .dataframe tbody tr th:only-of-type {\n",
       "        vertical-align: middle;\n",
       "    }\n",
       "\n",
       "    .dataframe tbody tr th {\n",
       "        vertical-align: top;\n",
       "    }\n",
       "\n",
       "    .dataframe thead th {\n",
       "        text-align: right;\n",
       "    }\n",
       "</style>\n",
       "<table border=\"1\" class=\"dataframe\">\n",
       "  <thead>\n",
       "    <tr style=\"text-align: right;\">\n",
       "      <th></th>\n",
       "      <th>month_date_yyyymm</th>\n",
       "      <th>zipcode</th>\n",
       "      <th>city_state</th>\n",
       "      <th>median_listing_price</th>\n",
       "      <th>active_listing_count</th>\n",
       "      <th>median_days_on_market</th>\n",
       "      <th>new_listing_count</th>\n",
       "      <th>price_increased_count</th>\n",
       "      <th>price_reduced_count</th>\n",
       "      <th>pending_listing_count</th>\n",
       "      <th>median_listing_price_per_square_foot</th>\n",
       "      <th>median_square_feet</th>\n",
       "      <th>average_listing_price</th>\n",
       "      <th>total_listing_count</th>\n",
       "      <th>days_on_market_category</th>\n",
       "    </tr>\n",
       "  </thead>\n",
       "  <tbody>\n",
       "    <tr>\n",
       "      <th>0</th>\n",
       "      <td>202401</td>\n",
       "      <td>59259</td>\n",
       "      <td>richey, mt</td>\n",
       "      <td>74000.0</td>\n",
       "      <td>2.0</td>\n",
       "      <td>59.0</td>\n",
       "      <td>0.0</td>\n",
       "      <td>0.0</td>\n",
       "      <td>0.0</td>\n",
       "      <td>19.93114</td>\n",
       "      <td>96.0</td>\n",
       "      <td>824.0</td>\n",
       "      <td>74000.0</td>\n",
       "      <td>2.0</td>\n",
       "      <td>high_days_on_market</td>\n",
       "    </tr>\n",
       "    <tr>\n",
       "      <th>1</th>\n",
       "      <td>202401</td>\n",
       "      <td>97369</td>\n",
       "      <td>otter rock, or</td>\n",
       "      <td>28250.0</td>\n",
       "      <td>8.0</td>\n",
       "      <td>53.0</td>\n",
       "      <td>2.0</td>\n",
       "      <td>0.0</td>\n",
       "      <td>0.0</td>\n",
       "      <td>19.93114</td>\n",
       "      <td>29.0</td>\n",
       "      <td>947.0</td>\n",
       "      <td>130056.0</td>\n",
       "      <td>8.0</td>\n",
       "      <td>high_days_on_market</td>\n",
       "    </tr>\n",
       "    <tr>\n",
       "      <th>2</th>\n",
       "      <td>202401</td>\n",
       "      <td>4922</td>\n",
       "      <td>burnham, me</td>\n",
       "      <td>187000.0</td>\n",
       "      <td>4.0</td>\n",
       "      <td>81.0</td>\n",
       "      <td>0.0</td>\n",
       "      <td>0.0</td>\n",
       "      <td>0.0</td>\n",
       "      <td>3.00000</td>\n",
       "      <td>178.0</td>\n",
       "      <td>907.0</td>\n",
       "      <td>207661.0</td>\n",
       "      <td>7.0</td>\n",
       "      <td>high_days_on_market</td>\n",
       "    </tr>\n",
       "    <tr>\n",
       "      <th>3</th>\n",
       "      <td>202401</td>\n",
       "      <td>49705</td>\n",
       "      <td>afton, mi</td>\n",
       "      <td>84875.0</td>\n",
       "      <td>1.0</td>\n",
       "      <td>76.0</td>\n",
       "      <td>0.0</td>\n",
       "      <td>0.0</td>\n",
       "      <td>2.0</td>\n",
       "      <td>1.00000</td>\n",
       "      <td>91.0</td>\n",
       "      <td>903.0</td>\n",
       "      <td>84875.0</td>\n",
       "      <td>1.0</td>\n",
       "      <td>high_days_on_market</td>\n",
       "    </tr>\n",
       "    <tr>\n",
       "      <th>4</th>\n",
       "      <td>202401</td>\n",
       "      <td>11965</td>\n",
       "      <td>shelter island heights, ny</td>\n",
       "      <td>3097500.0</td>\n",
       "      <td>4.0</td>\n",
       "      <td>113.0</td>\n",
       "      <td>0.0</td>\n",
       "      <td>0.0</td>\n",
       "      <td>0.0</td>\n",
       "      <td>19.93114</td>\n",
       "      <td>1666.0</td>\n",
       "      <td>1798.0</td>\n",
       "      <td>2830000.0</td>\n",
       "      <td>4.0</td>\n",
       "      <td>high_days_on_market</td>\n",
       "    </tr>\n",
       "  </tbody>\n",
       "</table>\n",
       "</div>"
      ],
      "text/plain": [
       "  month_date_yyyymm zipcode                  city_state  median_listing_price  \\\n",
       "0            202401   59259                  richey, mt               74000.0   \n",
       "1            202401   97369              otter rock, or               28250.0   \n",
       "2            202401    4922                 burnham, me              187000.0   \n",
       "3            202401   49705                   afton, mi               84875.0   \n",
       "4            202401   11965  shelter island heights, ny             3097500.0   \n",
       "\n",
       "   active_listing_count  median_days_on_market  new_listing_count  \\\n",
       "0                   2.0                   59.0                0.0   \n",
       "1                   8.0                   53.0                2.0   \n",
       "2                   4.0                   81.0                0.0   \n",
       "3                   1.0                   76.0                0.0   \n",
       "4                   4.0                  113.0                0.0   \n",
       "\n",
       "   price_increased_count  price_reduced_count  pending_listing_count  \\\n",
       "0                    0.0                  0.0               19.93114   \n",
       "1                    0.0                  0.0               19.93114   \n",
       "2                    0.0                  0.0                3.00000   \n",
       "3                    0.0                  2.0                1.00000   \n",
       "4                    0.0                  0.0               19.93114   \n",
       "\n",
       "   median_listing_price_per_square_foot  median_square_feet  \\\n",
       "0                                  96.0               824.0   \n",
       "1                                  29.0               947.0   \n",
       "2                                 178.0               907.0   \n",
       "3                                  91.0               903.0   \n",
       "4                                1666.0              1798.0   \n",
       "\n",
       "   average_listing_price  total_listing_count days_on_market_category  \n",
       "0                74000.0                  2.0     high_days_on_market  \n",
       "1               130056.0                  8.0     high_days_on_market  \n",
       "2               207661.0                  7.0     high_days_on_market  \n",
       "3                84875.0                  1.0     high_days_on_market  \n",
       "4              2830000.0                  4.0     high_days_on_market  "
      ]
     },
     "execution_count": 5,
     "metadata": {},
     "output_type": "execute_result"
    }
   ],
   "source": [
    "df_inventory_by_month_updated.head()"
   ]
  },
  {
   "cell_type": "code",
   "execution_count": 6,
   "id": "877461a3-848e-45a3-b998-27b13f4903b6",
   "metadata": {},
   "outputs": [
    {
     "data": {
      "text/plain": [
       "(2577829, 15)"
      ]
     },
     "execution_count": 6,
     "metadata": {},
     "output_type": "execute_result"
    }
   ],
   "source": [
    "df_inventory_by_month_updated.shape"
   ]
  },
  {
   "cell_type": "code",
   "execution_count": 7,
   "id": "09df78f0-8efc-4524-a5d4-ac1760d674df",
   "metadata": {},
   "outputs": [
    {
     "data": {
      "text/plain": [
       "Index(['month_date_yyyymm', 'zipcode', 'city_state', 'median_listing_price',\n",
       "       'active_listing_count', 'median_days_on_market', 'new_listing_count',\n",
       "       'price_increased_count', 'price_reduced_count', 'pending_listing_count',\n",
       "       'median_listing_price_per_square_foot', 'median_square_feet',\n",
       "       'average_listing_price', 'total_listing_count',\n",
       "       'days_on_market_category'],\n",
       "      dtype='object')"
      ]
     },
     "execution_count": 7,
     "metadata": {},
     "output_type": "execute_result"
    }
   ],
   "source": [
    "df_inventory_by_month_updated.columns"
   ]
  },
  {
   "cell_type": "markdown",
   "id": "87f3cc0e-71b1-4036-b8bd-d7c355bc2ffc",
   "metadata": {},
   "source": [
    "##### Missing values"
   ]
  },
  {
   "cell_type": "code",
   "execution_count": 8,
   "id": "7fa5c510-fec9-42d6-8700-884b50dc1543",
   "metadata": {},
   "outputs": [
    {
     "data": {
      "text/plain": [
       "month_date_yyyymm                       0\n",
       "zipcode                                 0\n",
       "city_state                              0\n",
       "median_listing_price                    0\n",
       "active_listing_count                    0\n",
       "median_days_on_market                   0\n",
       "new_listing_count                       0\n",
       "price_increased_count                   0\n",
       "price_reduced_count                     0\n",
       "pending_listing_count                   0\n",
       "median_listing_price_per_square_foot    0\n",
       "median_square_feet                      0\n",
       "average_listing_price                   0\n",
       "total_listing_count                     0\n",
       "days_on_market_category                 0\n",
       "dtype: int64"
      ]
     },
     "execution_count": 8,
     "metadata": {},
     "output_type": "execute_result"
    }
   ],
   "source": [
    "# Check for missing values\n",
    "\n",
    "df_inventory_by_month_updated.isnull().sum()"
   ]
  },
  {
   "cell_type": "markdown",
   "id": "48da1f21-c682-447e-815e-924207f0b332",
   "metadata": {},
   "source": [
    "##### No missing values"
   ]
  },
  {
   "cell_type": "code",
   "execution_count": 9,
   "id": "ca062d3b-6293-484e-bca5-4a53d2a563e3",
   "metadata": {},
   "outputs": [],
   "source": [
    "dups = df_inventory_by_month_updated.duplicated()"
   ]
  },
  {
   "cell_type": "code",
   "execution_count": 10,
   "id": "a489294a-853a-47b1-8460-6afbc95fa94c",
   "metadata": {},
   "outputs": [
    {
     "data": {
      "text/plain": [
       "(2577829,)"
      ]
     },
     "execution_count": 10,
     "metadata": {},
     "output_type": "execute_result"
    }
   ],
   "source": [
    "dups.shape"
   ]
  },
  {
   "cell_type": "markdown",
   "id": "b221eb22-7328-44ad-88c9-52443ed2adb5",
   "metadata": {},
   "source": [
    "##### No dups"
   ]
  },
  {
   "cell_type": "markdown",
   "id": "9fd55fb8-c5e8-428b-87db-b45419340c3c",
   "metadata": {},
   "source": [
    "##### Extreme values checks"
   ]
  },
  {
   "cell_type": "markdown",
   "id": "5311a01f-005c-4b90-afd0-6c6b776357a2",
   "metadata": {},
   "source": [
    "##### The coefficient for total_listing_count to price_reduced_count was 0.90, which indicates a very strong positive correlation between these variables and shows that a large percentage of the total_listing_count incur a price reduction. I want to test this relationship further. "
   ]
  },
  {
   "cell_type": "code",
   "execution_count": 11,
   "id": "81471746-cc73-4e81-a785-db0e48bafa84",
   "metadata": {},
   "outputs": [
    {
     "name": "stderr",
     "output_type": "stream",
     "text": [
      "C:\\Users\\Family Computer\\AppData\\Local\\Temp\\ipykernel_22896\\2588274794.py:2: UserWarning: \n",
      "\n",
      "`distplot` is a deprecated function and will be removed in seaborn v0.14.0.\n",
      "\n",
      "Please adapt your code to use either `displot` (a figure-level function with\n",
      "similar flexibility) or `histplot` (an axes-level function for histograms).\n",
      "\n",
      "For a guide to updating your code to use the new functions, please see\n",
      "https://gist.github.com/mwaskom/de44147ed2974457ad6372750bbe5751\n",
      "\n",
      "  sns.distplot(df_inventory_by_month_updated['total_listing_count'], bins=10)\n"
     ]
    },
    {
     "data": {
      "text/plain": [
       "<Axes: xlabel='total_listing_count', ylabel='Density'>"
      ]
     },
     "execution_count": 11,
     "metadata": {},
     "output_type": "execute_result"
    },
    {
     "data": {
      "image/png": "[encoded data removed]",
      "text/plain": [
       "<Figure size 640x480 with 1 Axes>"
      ]
     },
     "metadata": {},
     "output_type": "display_data"
    }
   ],
   "source": [
    "# Shows extreme values in median_listing_price column\n",
    "sns.distplot(df_inventory_by_month_updated['total_listing_count'], bins=10)"
   ]
  },
  {
   "cell_type": "code",
   "execution_count": 12,
   "id": "24037b8f-11f1-4f5c-8fe0-64c265be003d",
   "metadata": {},
   "outputs": [
    {
     "data": {
      "text/plain": [
       "47.348889727008284"
      ]
     },
     "execution_count": 12,
     "metadata": {},
     "output_type": "execute_result"
    }
   ],
   "source": [
    "# Check the mean\n",
    "\n",
    "df_inventory_by_month_updated['total_listing_count'].mean()"
   ]
  },
  {
   "cell_type": "code",
   "execution_count": 13,
   "id": "74839f1e-36b4-4530-ac79-e8e58319e3b7",
   "metadata": {},
   "outputs": [
    {
     "data": {
      "text/plain": [
       "16.0"
      ]
     },
     "execution_count": 13,
     "metadata": {},
     "output_type": "execute_result"
    }
   ],
   "source": [
    "# Check the median\n",
    "\n",
    "df_inventory_by_month_updated['total_listing_count'].median()"
   ]
  },
  {
   "cell_type": "code",
   "execution_count": 14,
   "id": "ebc6a209-144f-449a-9b65-b3abba08ca88",
   "metadata": {},
   "outputs": [
    {
     "data": {
      "text/plain": [
       "2860.0"
      ]
     },
     "execution_count": 14,
     "metadata": {},
     "output_type": "execute_result"
    }
   ],
   "source": [
    "# Check the max\n",
    "\n",
    "df_inventory_by_month_updated['total_listing_count'].max()"
   ]
  },
  {
   "cell_type": "code",
   "execution_count": 15,
   "id": "6e901649-41ba-4414-aad1-501a295f28f9",
   "metadata": {},
   "outputs": [
    {
     "data": {
      "text/plain": [
       "0.0"
      ]
     },
     "execution_count": 15,
     "metadata": {},
     "output_type": "execute_result"
    }
   ],
   "source": [
    "# Check the min\n",
    "\n",
    "df_inventory_by_month_updated['total_listing_count'].min()"
   ]
  },
  {
   "cell_type": "code",
   "execution_count": 16,
   "id": "adef7547-4731-4088-893c-463a4ee5b33a",
   "metadata": {},
   "outputs": [],
   "source": [
    "# Select only entries with a non-zero rating\n",
    "\n",
    "df_inventory_by_month_updated = df_inventory_by_month_updated[df_inventory_by_month_updated['total_listing_count'] >= 1]"
   ]
  },
  {
   "cell_type": "code",
   "execution_count": 17,
   "id": "12bae376-aefc-4c6e-a8bd-fe24511be617",
   "metadata": {},
   "outputs": [
    {
     "name": "stderr",
     "output_type": "stream",
     "text": [
      "C:\\Users\\Family Computer\\AppData\\Local\\Temp\\ipykernel_22896\\2588274794.py:2: UserWarning: \n",
      "\n",
      "`distplot` is a deprecated function and will be removed in seaborn v0.14.0.\n",
      "\n",
      "Please adapt your code to use either `displot` (a figure-level function with\n",
      "similar flexibility) or `histplot` (an axes-level function for histograms).\n",
      "\n",
      "For a guide to updating your code to use the new functions, please see\n",
      "https://gist.github.com/mwaskom/de44147ed2974457ad6372750bbe5751\n",
      "\n",
      "  sns.distplot(df_inventory_by_month_updated['total_listing_count'], bins=10)\n"
     ]
    },
    {
     "data": {
      "text/plain": [
       "<Axes: xlabel='total_listing_count', ylabel='Density'>"
      ]
     },
     "execution_count": 17,
     "metadata": {},
     "output_type": "execute_result"
    },
    {
     "data": {
      "image/png": "[encoded data removed]",
      "text/plain": [
       "<Figure size 640x480 with 1 Axes>"
      ]
     },
     "metadata": {},
     "output_type": "display_data"
    }
   ],
   "source": [
    "# Shows extreme values in median_listing_price column\n",
    "sns.distplot(df_inventory_by_month_updated['total_listing_count'], bins=10)"
   ]
  },
  {
   "cell_type": "code",
   "execution_count": 18,
   "id": "442c4474-d54b-49b6-8099-e80fcc6d6c0e",
   "metadata": {},
   "outputs": [
    {
     "data": {
      "text/html": [
       "<div>\n",
       "<style scoped>\n",
       "    .dataframe tbody tr th:only-of-type {\n",
       "        vertical-align: middle;\n",
       "    }\n",
       "\n",
       "    .dataframe tbody tr th {\n",
       "        vertical-align: top;\n",
       "    }\n",
       "\n",
       "    .dataframe thead th {\n",
       "        text-align: right;\n",
       "    }\n",
       "</style>\n",
       "<table border=\"1\" class=\"dataframe\">\n",
       "  <thead>\n",
       "    <tr style=\"text-align: right;\">\n",
       "      <th></th>\n",
       "      <th>month_date_yyyymm</th>\n",
       "      <th>zipcode</th>\n",
       "      <th>city_state</th>\n",
       "      <th>median_listing_price</th>\n",
       "      <th>active_listing_count</th>\n",
       "      <th>median_days_on_market</th>\n",
       "      <th>new_listing_count</th>\n",
       "      <th>price_increased_count</th>\n",
       "      <th>price_reduced_count</th>\n",
       "      <th>pending_listing_count</th>\n",
       "      <th>median_listing_price_per_square_foot</th>\n",
       "      <th>median_square_feet</th>\n",
       "      <th>average_listing_price</th>\n",
       "      <th>total_listing_count</th>\n",
       "      <th>days_on_market_category</th>\n",
       "    </tr>\n",
       "  </thead>\n",
       "  <tbody>\n",
       "    <tr>\n",
       "      <th>0</th>\n",
       "      <td>202401</td>\n",
       "      <td>59259</td>\n",
       "      <td>richey, mt</td>\n",
       "      <td>74000.0</td>\n",
       "      <td>2.0</td>\n",
       "      <td>59.0</td>\n",
       "      <td>0.0</td>\n",
       "      <td>0.0</td>\n",
       "      <td>0.0</td>\n",
       "      <td>19.93114</td>\n",
       "      <td>96.0</td>\n",
       "      <td>824.0</td>\n",
       "      <td>74000.0</td>\n",
       "      <td>2.0</td>\n",
       "      <td>high_days_on_market</td>\n",
       "    </tr>\n",
       "    <tr>\n",
       "      <th>1</th>\n",
       "      <td>202401</td>\n",
       "      <td>97369</td>\n",
       "      <td>otter rock, or</td>\n",
       "      <td>28250.0</td>\n",
       "      <td>8.0</td>\n",
       "      <td>53.0</td>\n",
       "      <td>2.0</td>\n",
       "      <td>0.0</td>\n",
       "      <td>0.0</td>\n",
       "      <td>19.93114</td>\n",
       "      <td>29.0</td>\n",
       "      <td>947.0</td>\n",
       "      <td>130056.0</td>\n",
       "      <td>8.0</td>\n",
       "      <td>high_days_on_market</td>\n",
       "    </tr>\n",
       "    <tr>\n",
       "      <th>2</th>\n",
       "      <td>202401</td>\n",
       "      <td>4922</td>\n",
       "      <td>burnham, me</td>\n",
       "      <td>187000.0</td>\n",
       "      <td>4.0</td>\n",
       "      <td>81.0</td>\n",
       "      <td>0.0</td>\n",
       "      <td>0.0</td>\n",
       "      <td>0.0</td>\n",
       "      <td>3.00000</td>\n",
       "      <td>178.0</td>\n",
       "      <td>907.0</td>\n",
       "      <td>207661.0</td>\n",
       "      <td>7.0</td>\n",
       "      <td>high_days_on_market</td>\n",
       "    </tr>\n",
       "    <tr>\n",
       "      <th>3</th>\n",
       "      <td>202401</td>\n",
       "      <td>49705</td>\n",
       "      <td>afton, mi</td>\n",
       "      <td>84875.0</td>\n",
       "      <td>1.0</td>\n",
       "      <td>76.0</td>\n",
       "      <td>0.0</td>\n",
       "      <td>0.0</td>\n",
       "      <td>2.0</td>\n",
       "      <td>1.00000</td>\n",
       "      <td>91.0</td>\n",
       "      <td>903.0</td>\n",
       "      <td>84875.0</td>\n",
       "      <td>1.0</td>\n",
       "      <td>high_days_on_market</td>\n",
       "    </tr>\n",
       "    <tr>\n",
       "      <th>4</th>\n",
       "      <td>202401</td>\n",
       "      <td>11965</td>\n",
       "      <td>shelter island heights, ny</td>\n",
       "      <td>3097500.0</td>\n",
       "      <td>4.0</td>\n",
       "      <td>113.0</td>\n",
       "      <td>0.0</td>\n",
       "      <td>0.0</td>\n",
       "      <td>0.0</td>\n",
       "      <td>19.93114</td>\n",
       "      <td>1666.0</td>\n",
       "      <td>1798.0</td>\n",
       "      <td>2830000.0</td>\n",
       "      <td>4.0</td>\n",
       "      <td>high_days_on_market</td>\n",
       "    </tr>\n",
       "  </tbody>\n",
       "</table>\n",
       "</div>"
      ],
      "text/plain": [
       "  month_date_yyyymm zipcode                  city_state  median_listing_price  \\\n",
       "0            202401   59259                  richey, mt               74000.0   \n",
       "1            202401   97369              otter rock, or               28250.0   \n",
       "2            202401    4922                 burnham, me              187000.0   \n",
       "3            202401   49705                   afton, mi               84875.0   \n",
       "4            202401   11965  shelter island heights, ny             3097500.0   \n",
       "\n",
       "   active_listing_count  median_days_on_market  new_listing_count  \\\n",
       "0                   2.0                   59.0                0.0   \n",
       "1                   8.0                   53.0                2.0   \n",
       "2                   4.0                   81.0                0.0   \n",
       "3                   1.0                   76.0                0.0   \n",
       "4                   4.0                  113.0                0.0   \n",
       "\n",
       "   price_increased_count  price_reduced_count  pending_listing_count  \\\n",
       "0                    0.0                  0.0               19.93114   \n",
       "1                    0.0                  0.0               19.93114   \n",
       "2                    0.0                  0.0                3.00000   \n",
       "3                    0.0                  2.0                1.00000   \n",
       "4                    0.0                  0.0               19.93114   \n",
       "\n",
       "   median_listing_price_per_square_foot  median_square_feet  \\\n",
       "0                                  96.0               824.0   \n",
       "1                                  29.0               947.0   \n",
       "2                                 178.0               907.0   \n",
       "3                                  91.0               903.0   \n",
       "4                                1666.0              1798.0   \n",
       "\n",
       "   average_listing_price  total_listing_count days_on_market_category  \n",
       "0                74000.0                  2.0     high_days_on_market  \n",
       "1               130056.0                  8.0     high_days_on_market  \n",
       "2               207661.0                  7.0     high_days_on_market  \n",
       "3                84875.0                  1.0     high_days_on_market  \n",
       "4              2830000.0                  4.0     high_days_on_market  "
      ]
     },
     "execution_count": 18,
     "metadata": {},
     "output_type": "execute_result"
    }
   ],
   "source": [
    "df_inventory_by_month_updated.head()"
   ]
  },
  {
   "cell_type": "code",
   "execution_count": 19,
   "id": "00a2a0e3-0ed1-4161-9450-cd148ee90382",
   "metadata": {},
   "outputs": [
    {
     "data": {
      "text/plain": [
       "(2567376, 15)"
      ]
     },
     "execution_count": 19,
     "metadata": {},
     "output_type": "execute_result"
    }
   ],
   "source": [
    "df_inventory_by_month_updated.shape"
   ]
  },
  {
   "cell_type": "markdown",
   "id": "9b874c6c-9762-495d-905f-1aa63ce41af7",
   "metadata": {},
   "source": [
    "### 3. Data prep for regression analysis "
   ]
  },
  {
   "cell_type": "code",
   "execution_count": 22,
   "id": "1acb65c9-e8f6-4df7-8a82-ebf0943af5e9",
   "metadata": {},
   "outputs": [
    {
     "data": {
      "image/png": "[encoded data removed]",
      "text/plain": [
       "<Figure size 640x480 with 1 Axes>"
      ]
     },
     "metadata": {},
     "output_type": "display_data"
    }
   ],
   "source": [
    "# Create a scatterplot using matplotlib for another look at how the chosen variables plot against each other.\n",
    "\n",
    "df_inventory_by_month_updated.plot(x = 'total_listing_count', y='price_reduced_count',style='o') # The style option creates a scatterplot; without it, we only have lines.\n",
    "plt.title('Total Listings vs Price Reductions')  \n",
    "plt.xlabel('Total Listings')  \n",
    "plt.ylabel('Price Reductions')  \n",
    "plt.show()"
   ]
  },
  {
   "cell_type": "markdown",
   "id": "b36e7b7d-45ff-483c-9e5c-8ace999be16e",
   "metadata": {},
   "source": [
    "##### Hypothesis: The greater the number of total listings, the greater the number of price reductions. "
   ]
  },
  {
   "cell_type": "code",
   "execution_count": 24,
   "id": "dae45e16-171b-4222-a8aa-84dd4f7cee37",
   "metadata": {},
   "outputs": [],
   "source": [
    "# Reshape the variables into NumPy arrays and put them into separate objects.\n",
    "\n",
    "X = df_inventory_by_month_updated['total_listing_count'].values.reshape(-1,1)\n",
    "y = df_inventory_by_month_updated['price_reduced_count'].values.reshape(-1,1)"
   ]
  },
  {
   "cell_type": "code",
   "execution_count": 25,
   "id": "68237732-deff-49b0-b76c-f2608e2b1526",
   "metadata": {},
   "outputs": [
    {
     "data": {
      "text/plain": [
       "array([[ 2.        ],\n",
       "       [ 8.        ],\n",
       "       [ 7.        ],\n",
       "       ...,\n",
       "       [65.        ],\n",
       "       [ 3.        ],\n",
       "       [47.34888973]])"
      ]
     },
     "execution_count": 25,
     "metadata": {},
     "output_type": "execute_result"
    }
   ],
   "source": [
    "X"
   ]
  },
  {
   "cell_type": "code",
   "execution_count": 26,
   "id": "8ffe3486-e346-4057-a33b-29ecac076141",
   "metadata": {},
   "outputs": [
    {
     "data": {
      "text/plain": [
       "array([[ 0.        ],\n",
       "       [ 0.        ],\n",
       "       [ 0.        ],\n",
       "       ...,\n",
       "       [24.        ],\n",
       "       [ 0.        ],\n",
       "       [ 8.51186558]])"
      ]
     },
     "execution_count": 26,
     "metadata": {},
     "output_type": "execute_result"
    }
   ],
   "source": [
    "y"
   ]
  },
  {
   "cell_type": "code",
   "execution_count": 27,
   "id": "b82f3aad-ab6d-4634-b52d-a0bd9d8c2131",
   "metadata": {},
   "outputs": [],
   "source": [
    "# Split data into a training set and a test set.\n",
    "\n",
    "X_train, X_test, y_train, y_test = train_test_split(X, y, test_size=0.3, random_state=0)"
   ]
  },
  {
   "cell_type": "markdown",
   "id": "a1f6e9c4-fd5b-4273-89cb-dbb8a3c10d21",
   "metadata": {},
   "source": [
    "### 4. Regression analysis"
   ]
  },
  {
   "cell_type": "code",
   "execution_count": 28,
   "id": "567e3192-f86e-4e54-80c9-0bc548dd08dd",
   "metadata": {},
   "outputs": [],
   "source": [
    "# Create a regression object.\n",
    "\n",
    "regression = LinearRegression()  # This is the regression object, which will be fit onto the training set."
   ]
  },
  {
   "cell_type": "code",
   "execution_count": 29,
   "id": "ee38d626-5520-45e7-ae58-25df0d75c7f1",
   "metadata": {},
   "outputs": [
    {
     "data": {
      "text/html": [
       "<style>#sk-container-id-1 {color: black;}#sk-container-id-1 pre{padding: 0;}#sk-container-id-1 div.sk-toggleable {background-color: white;}#sk-container-id-1 label.sk-toggleable__label {cursor: pointer;display: block;width: 100%;margin-bottom: 0;padding: 0.3em;box-sizing: border-box;text-align: center;}#sk-container-id-1 label.sk-toggleable__label-arrow:before {content: \"▸\";float: left;margin-right: 0.25em;color: #696969;}#sk-container-id-1 label.sk-toggleable__label-arrow:hover:before {color: black;}#sk-container-id-1 div.sk-estimator:hover label.sk-toggleable__label-arrow:before {color: black;}#sk-container-id-1 div.sk-toggleable__content {max-height: 0;max-width: 0;overflow: hidden;text-align: left;background-color: #f0f8ff;}#sk-container-id-1 div.sk-toggleable__content pre {margin: 0.2em;color: black;border-radius: 0.25em;background-color: #f0f8ff;}#sk-container-id-1 input.sk-toggleable__control:checked~div.sk-toggleable__content {max-height: 200px;max-width: 100%;overflow: auto;}#sk-container-id-1 input.sk-toggleable__control:checked~label.sk-toggleable__label-arrow:before {content: \"▾\";}#sk-container-id-1 div.sk-estimator input.sk-toggleable__control:checked~label.sk-toggleable__label {background-color: #d4ebff;}#sk-container-id-1 div.sk-label input.sk-toggleable__control:checked~label.sk-toggleable__label {background-color: #d4ebff;}#sk-container-id-1 input.sk-hidden--visually {border: 0;clip: rect(1px 1px 1px 1px);clip: rect(1px, 1px, 1px, 1px);height: 1px;margin: -1px;overflow: hidden;padding: 0;position: absolute;width: 1px;}#sk-container-id-1 div.sk-estimator {font-family: monospace;background-color: #f0f8ff;border: 1px dotted black;border-radius: 0.25em;box-sizing: border-box;margin-bottom: 0.5em;}#sk-container-id-1 div.sk-estimator:hover {background-color: #d4ebff;}#sk-container-id-1 div.sk-parallel-item::after {content: \"\";width: 100%;border-bottom: 1px solid gray;flex-grow: 1;}#sk-container-id-1 div.sk-label:hover label.sk-toggleable__label {background-color: #d4ebff;}#sk-container-id-1 div.sk-serial::before {content: \"\";position: absolute;border-left: 1px solid gray;box-sizing: border-box;top: 0;bottom: 0;left: 50%;z-index: 0;}#sk-container-id-1 div.sk-serial {display: flex;flex-direction: column;align-items: center;background-color: white;padding-right: 0.2em;padding-left: 0.2em;position: relative;}#sk-container-id-1 div.sk-item {position: relative;z-index: 1;}#sk-container-id-1 div.sk-parallel {display: flex;align-items: stretch;justify-content: center;background-color: white;position: relative;}#sk-container-id-1 div.sk-item::before, #sk-container-id-1 div.sk-parallel-item::before {content: \"\";position: absolute;border-left: 1px solid gray;box-sizing: border-box;top: 0;bottom: 0;left: 50%;z-index: -1;}#sk-container-id-1 div.sk-parallel-item {display: flex;flex-direction: column;z-index: 1;position: relative;background-color: white;}#sk-container-id-1 div.sk-parallel-item:first-child::after {align-self: flex-end;width: 50%;}#sk-container-id-1 div.sk-parallel-item:last-child::after {align-self: flex-start;width: 50%;}#sk-container-id-1 div.sk-parallel-item:only-child::after {width: 0;}#sk-container-id-1 div.sk-dashed-wrapped {border: 1px dashed gray;margin: 0 0.4em 0.5em 0.4em;box-sizing: border-box;padding-bottom: 0.4em;background-color: white;}#sk-container-id-1 div.sk-label label {font-family: monospace;font-weight: bold;display: inline-block;line-height: 1.2em;}#sk-container-id-1 div.sk-label-container {text-align: center;}#sk-container-id-1 div.sk-container {/* jupyter's `normalize.less` sets `[hidden] { display: none; }` but bootstrap.min.css set `[hidden] { display: none !important; }` so we also need the `!important` here to be able to override the default hidden behavior on the sphinx rendered scikit-learn.org. See: https://github.com/scikit-learn/scikit-learn/issues/21755 */display: inline-block !important;position: relative;}#sk-container-id-1 div.sk-text-repr-fallback {display: none;}</style><div id=\"sk-container-id-1\" class=\"sk-top-container\"><div class=\"sk-text-repr-fallback\"><pre>LinearRegression()</pre><b>In a Jupyter environment, please rerun this cell to show the HTML representation or trust the notebook. <br />On GitHub, the HTML representation is unable to render, please try loading this page with nbviewer.org.</b></div><div class=\"sk-container\" hidden><div class=\"sk-item\"><div class=\"sk-estimator sk-toggleable\"><input class=\"sk-toggleable__control sk-hidden--visually\" id=\"sk-estimator-id-1\" type=\"checkbox\" checked><label for=\"sk-estimator-id-1\" class=\"sk-toggleable__label sk-toggleable__label-arrow\">LinearRegression</label><div class=\"sk-toggleable__content\"><pre>LinearRegression()</pre></div></div></div></div></div>"
      ],
      "text/plain": [
       "LinearRegression()"
      ]
     },
     "execution_count": 29,
     "metadata": {},
     "output_type": "execute_result"
    }
   ],
   "source": [
    "# Fit the regression object onto the training set.\n",
    "\n",
    "regression.fit(X_train, y_train)"
   ]
  },
  {
   "cell_type": "code",
   "execution_count": 30,
   "id": "724919e6-d333-4fc5-a0e3-e4ddfbcceebe",
   "metadata": {},
   "outputs": [],
   "source": [
    "# Predict the values of y using X.\n",
    "\n",
    "y_predicted = regression.predict(X_test)"
   ]
  },
  {
   "cell_type": "code",
   "execution_count": 31,
   "id": "62cb531e-3426-4e61-88ec-e255a867f0fb",
   "metadata": {},
   "outputs": [
    {
     "data": {
      "image/png": "[encoded data removed]",
      "text/plain": [
       "<Figure size 640x480 with 1 Axes>"
      ]
     },
     "metadata": {},
     "output_type": "display_data"
    }
   ],
   "source": [
    "# Create a plot that shows the regression line from the model on the test set.\n",
    "\n",
    "plot_test = plt\n",
    "plot_test.scatter(X_test, y_test, color='gray', s = 15)\n",
    "plot_test.plot(X_test, y_predicted, color='red', linewidth =3)\n",
    "plot_test.title('Total Listings vs Price Reductions (Test set)')\n",
    "plot_test.xlabel('Total Listings')\n",
    "plot_test.ylabel('Price Reductions')\n",
    "plot_test.show()"
   ]
  },
  {
   "cell_type": "markdown",
   "id": "f45b54a7-5407-4af7-a8ba-0d51e1d1ec8d",
   "metadata": {},
   "source": [
    "##### The line fits the data pretty well, but there are still a lot of data points that are far away from the line. The data points that are far from the line still appear to have a positive correlation though. "
   ]
  },
  {
   "cell_type": "code",
   "execution_count": 32,
   "id": "d421380a-2656-4a1e-bf81-2dd7e0f0c0fe",
   "metadata": {},
   "outputs": [],
   "source": [
    "# Create objects that contain the model summary statistics.\n",
    "\n",
    "rmse = mean_squared_error(y_test, y_predicted) # This is the mean squared error\n",
    "r2 = r2_score(y_test, y_predicted) # This is the R2 score. "
   ]
  },
  {
   "cell_type": "code",
   "execution_count": 33,
   "id": "e3936327-ee0a-48f5-abae-d59b379a74b1",
   "metadata": {},
   "outputs": [
    {
     "name": "stdout",
     "output_type": "stream",
     "text": [
      "Slope: [[0.19886792]]\n",
      "Mean squared error:  93.63430051565194\n",
      "R2 score:  0.7287774567447936\n"
     ]
    }
   ],
   "source": [
    "# Print the model summary statistics.\n",
    "\n",
    "print('Slope:' ,regression.coef_)\n",
    "print('Mean squared error: ', rmse)\n",
    "print('R2 score: ', r2)"
   ]
  },
  {
   "cell_type": "code",
   "execution_count": 34,
   "id": "67f79984-ae20-4c04-a2e2-867b35b253e3",
   "metadata": {},
   "outputs": [
    {
     "data": {
      "text/plain": [
       "array([[ 0.68825378],\n",
       "       [ 0.8871217 ],\n",
       "       [26.93881967],\n",
       "       ...,\n",
       "       [-0.50495376],\n",
       "       [ 4.2678764 ],\n",
       "       [-0.30608584]])"
      ]
     },
     "execution_count": 34,
     "metadata": {},
     "output_type": "execute_result"
    }
   ],
   "source": [
    "y_predicted"
   ]
  },
  {
   "cell_type": "code",
   "execution_count": 35,
   "id": "9996fd50-ba88-46d8-af9d-bbc8a247a9f6",
   "metadata": {},
   "outputs": [
    {
     "data": {
      "text/html": [
       "<div>\n",
       "<style scoped>\n",
       "    .dataframe tbody tr th:only-of-type {\n",
       "        vertical-align: middle;\n",
       "    }\n",
       "\n",
       "    .dataframe tbody tr th {\n",
       "        vertical-align: top;\n",
       "    }\n",
       "\n",
       "    .dataframe thead th {\n",
       "        text-align: right;\n",
       "    }\n",
       "</style>\n",
       "<table border=\"1\" class=\"dataframe\">\n",
       "  <thead>\n",
       "    <tr style=\"text-align: right;\">\n",
       "      <th></th>\n",
       "      <th>Actual</th>\n",
       "      <th>Predicted</th>\n",
       "    </tr>\n",
       "  </thead>\n",
       "  <tbody>\n",
       "    <tr>\n",
       "      <th>0</th>\n",
       "      <td>2.0</td>\n",
       "      <td>0.688254</td>\n",
       "    </tr>\n",
       "    <tr>\n",
       "      <th>1</th>\n",
       "      <td>8.0</td>\n",
       "      <td>0.887122</td>\n",
       "    </tr>\n",
       "    <tr>\n",
       "      <th>2</th>\n",
       "      <td>28.0</td>\n",
       "      <td>26.938820</td>\n",
       "    </tr>\n",
       "    <tr>\n",
       "      <th>3</th>\n",
       "      <td>0.0</td>\n",
       "      <td>-0.306086</td>\n",
       "    </tr>\n",
       "    <tr>\n",
       "      <th>4</th>\n",
       "      <td>6.0</td>\n",
       "      <td>8.444103</td>\n",
       "    </tr>\n",
       "    <tr>\n",
       "      <th>5</th>\n",
       "      <td>2.0</td>\n",
       "      <td>-0.306086</td>\n",
       "    </tr>\n",
       "    <tr>\n",
       "      <th>6</th>\n",
       "      <td>0.0</td>\n",
       "      <td>-0.703822</td>\n",
       "    </tr>\n",
       "    <tr>\n",
       "      <th>7</th>\n",
       "      <td>4.0</td>\n",
       "      <td>0.489386</td>\n",
       "    </tr>\n",
       "    <tr>\n",
       "      <th>8</th>\n",
       "      <td>0.0</td>\n",
       "      <td>-0.107218</td>\n",
       "    </tr>\n",
       "    <tr>\n",
       "      <th>9</th>\n",
       "      <td>0.0</td>\n",
       "      <td>-0.306086</td>\n",
       "    </tr>\n",
       "    <tr>\n",
       "      <th>10</th>\n",
       "      <td>0.0</td>\n",
       "      <td>0.091650</td>\n",
       "    </tr>\n",
       "    <tr>\n",
       "      <th>11</th>\n",
       "      <td>0.0</td>\n",
       "      <td>1.881461</td>\n",
       "    </tr>\n",
       "    <tr>\n",
       "      <th>12</th>\n",
       "      <td>0.0</td>\n",
       "      <td>-0.703822</td>\n",
       "    </tr>\n",
       "    <tr>\n",
       "      <th>13</th>\n",
       "      <td>4.0</td>\n",
       "      <td>12.023725</td>\n",
       "    </tr>\n",
       "    <tr>\n",
       "      <th>14</th>\n",
       "      <td>0.0</td>\n",
       "      <td>-0.703822</td>\n",
       "    </tr>\n",
       "    <tr>\n",
       "      <th>15</th>\n",
       "      <td>18.0</td>\n",
       "      <td>27.137688</td>\n",
       "    </tr>\n",
       "    <tr>\n",
       "      <th>16</th>\n",
       "      <td>0.0</td>\n",
       "      <td>-0.306086</td>\n",
       "    </tr>\n",
       "    <tr>\n",
       "      <th>17</th>\n",
       "      <td>0.0</td>\n",
       "      <td>-0.703822</td>\n",
       "    </tr>\n",
       "    <tr>\n",
       "      <th>18</th>\n",
       "      <td>0.0</td>\n",
       "      <td>3.273537</td>\n",
       "    </tr>\n",
       "    <tr>\n",
       "      <th>19</th>\n",
       "      <td>0.0</td>\n",
       "      <td>1.085990</td>\n",
       "    </tr>\n",
       "    <tr>\n",
       "      <th>20</th>\n",
       "      <td>2.0</td>\n",
       "      <td>0.887122</td>\n",
       "    </tr>\n",
       "    <tr>\n",
       "      <th>21</th>\n",
       "      <td>12.0</td>\n",
       "      <td>15.802216</td>\n",
       "    </tr>\n",
       "    <tr>\n",
       "      <th>22</th>\n",
       "      <td>0.0</td>\n",
       "      <td>-0.107218</td>\n",
       "    </tr>\n",
       "    <tr>\n",
       "      <th>23</th>\n",
       "      <td>8.0</td>\n",
       "      <td>10.830518</td>\n",
       "    </tr>\n",
       "    <tr>\n",
       "      <th>24</th>\n",
       "      <td>0.0</td>\n",
       "      <td>-0.107218</td>\n",
       "    </tr>\n",
       "    <tr>\n",
       "      <th>25</th>\n",
       "      <td>0.0</td>\n",
       "      <td>-0.504954</td>\n",
       "    </tr>\n",
       "    <tr>\n",
       "      <th>26</th>\n",
       "      <td>0.0</td>\n",
       "      <td>-0.306086</td>\n",
       "    </tr>\n",
       "    <tr>\n",
       "      <th>27</th>\n",
       "      <td>4.0</td>\n",
       "      <td>0.290518</td>\n",
       "    </tr>\n",
       "    <tr>\n",
       "      <th>28</th>\n",
       "      <td>0.0</td>\n",
       "      <td>1.085990</td>\n",
       "    </tr>\n",
       "    <tr>\n",
       "      <th>29</th>\n",
       "      <td>332.0</td>\n",
       "      <td>128.560329</td>\n",
       "    </tr>\n",
       "  </tbody>\n",
       "</table>\n",
       "</div>"
      ],
      "text/plain": [
       "    Actual   Predicted\n",
       "0      2.0    0.688254\n",
       "1      8.0    0.887122\n",
       "2     28.0   26.938820\n",
       "3      0.0   -0.306086\n",
       "4      6.0    8.444103\n",
       "5      2.0   -0.306086\n",
       "6      0.0   -0.703822\n",
       "7      4.0    0.489386\n",
       "8      0.0   -0.107218\n",
       "9      0.0   -0.306086\n",
       "10     0.0    0.091650\n",
       "11     0.0    1.881461\n",
       "12     0.0   -0.703822\n",
       "13     4.0   12.023725\n",
       "14     0.0   -0.703822\n",
       "15    18.0   27.137688\n",
       "16     0.0   -0.306086\n",
       "17     0.0   -0.703822\n",
       "18     0.0    3.273537\n",
       "19     0.0    1.085990\n",
       "20     2.0    0.887122\n",
       "21    12.0   15.802216\n",
       "22     0.0   -0.107218\n",
       "23     8.0   10.830518\n",
       "24     0.0   -0.107218\n",
       "25     0.0   -0.504954\n",
       "26     0.0   -0.306086\n",
       "27     4.0    0.290518\n",
       "28     0.0    1.085990\n",
       "29   332.0  128.560329"
      ]
     },
     "execution_count": 35,
     "metadata": {},
     "output_type": "execute_result"
    }
   ],
   "source": [
    "# Create a dataframe comparing the actual and predicted values of y.\n",
    "\n",
    "data = pd.DataFrame({'Actual': y_test.flatten(), 'Predicted': y_predicted.flatten()})\n",
    "data.head(30)"
   ]
  },
  {
   "cell_type": "markdown",
   "id": "43bc62d2-22ce-427f-b4fa-69833b7450b5",
   "metadata": {},
   "source": [
    "##### When I reviewed the Slope: 0.19886792, the \n",
    "Mean squared error:  93.6343005156519 and the \r\n",
    "R2 score:  0.72877745674479 my initial thoughts was that the slope indicated a postive correlation, which matches my scatterplot. The mean squared error appeared to be low as this dataset contains 2567376 data points. The R2 score of .728 also appeared to be pretty good as it is close to 1 which would indicate a good fit. However, once I compared the actual and predicted values of y, the model no longer appears to be performing very well. There are large differences between the actual and predicted values. 36"
   ]
  },
  {
   "cell_type": "markdown",
   "id": "a4f9e1a0-9e8d-4092-9048-0c2a405cd5bb",
   "metadata": {},
   "source": [
    "##### I believe the only data bias that may affect the data would be collection bias as the data set comes from Realtor.com which sydicates with the MLS's accorss the country so any errors in the data would be user input errors - the person who input the data into the MLS - either from inputting inaccurate information on purpose or on accident, assuming information and not verifying the data, or by not updating information in a timely fashion which could skew the numbers. "
   ]
  },
  {
   "cell_type": "code",
   "execution_count": null,
   "id": "d2ca7e92-1f19-4287-8e77-f27be5d11664",
   "metadata": {},
   "outputs": [],
   "source": []
  }
 ],
 "metadata": {
  "kernelspec": {
   "display_name": "Python 3 (ipykernel)",
   "language": "python",
   "name": "python3"
  },
  "language_info": {
   "codemirror_mode": {
    "name": "ipython",
    "version": 3
   },
   "file_extension": ".py",
   "mimetype": "text/x-python",
   "name": "python",
   "nbconvert_exporter": "python",
   "pygments_lexer": "ipython3",
   "version": "3.11.5"
  }
 },
 "nbformat": 4,
 "nbformat_minor": 5
}
